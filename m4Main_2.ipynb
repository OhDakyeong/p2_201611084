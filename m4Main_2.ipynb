{
 "cells": [
  {
   "cell_type": "code",
   "execution_count": null,
   "metadata": {
    "collapsed": true
   },
   "outputs": [],
   "source": [
    "@startuml\n",
    "start\n",
    ":set turns;\n",
    ":set how much to grow bigger;\n",
    ":set angle;\n",
    ":set start size;\n",
    "repeat\n",
    "if (i is divided by 2) then\n",
    "    :grow bigger;\n",
    "endif\n",
    ":draw;\n",
    "repeat while(turns)\n",
    "stop\n",
    "@enduml"
   ]
  }
 ],
 "metadata": {
  "kernelspec": {
   "display_name": "Python 2",
   "language": "python",
   "name": "python2"
  },
  "language_info": {
   "codemirror_mode": {
    "name": "ipython",
    "version": 2
   },
   "file_extension": ".py",
   "mimetype": "text/x-python",
   "name": "python",
   "nbconvert_exporter": "python",
   "pygments_lexer": "ipython2",
   "version": "2.7.11"
  }
 },
 "nbformat": 4,
 "nbformat_minor": 0
}
